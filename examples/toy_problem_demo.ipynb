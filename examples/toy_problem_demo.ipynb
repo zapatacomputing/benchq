{
  "cells": [
    {
      "attachments": {},
      "cell_type": "markdown",
      "metadata": {},
      "source": [
        "# Toy Problem Demo\n",
        "\n",
        "## Scope\n",
        "\n",
        "Overview of Benchq:\n",
        "- inputs and outputs\n",
        "- components:\n",
        "  - Transpilation (pyliqtr)\n",
        "  - Jabalizer/ICM\n",
        "  - Min code distance finding\n",
        "  - Substrate scheduling\n",
        "\n",
        "\n",
        "Wait a little for TA 1 and TA 1.5\n",
        "\n",
        "### Goal: Introduction to Benchq Tool for Resource Estimation"
      ]
    },
    {
      "attachments": {},
      "cell_type": "markdown",
      "metadata": {},
      "source": [
        "## Agenda\n",
        "- Quick overview of Benchq usage.\n",
        "- What is a circuit graph? How do we produce them?\n",
        "- How do circuit graphs help get resource estimates?\n",
        "- Look at some pretty plots\n",
        "  - Preparing a GHZ state\n",
        "  - The fully connected graph"
      ]
    },
    {
      "attachments": {},
      "cell_type": "markdown",
      "metadata": {},
      "source": [
        "## Overview of Benchq Usage\n",
        "\n",
        "What are the inputs and outputs?"
      ]
    },
    {
      "cell_type": "code",
      "execution_count": 1,
      "metadata": {},
      "outputs": [],
      "source": [
        "%matplotlib inline  \n",
        "from qiskit.circuit import QuantumCircuit\n",
        "import os\n",
        "import json\n",
        "import networkx as nx\n",
        "\n",
        "from benchq import BasicArchitectureModel\n",
        "from benchq.compilation import get_algorithmic_graph_from_Jabalizer, pyliqtr_transpile_to_clifford_t\n",
        "from benchq.resource_estimation.graph_compilation import (\n",
        "    get_resource_estimations_for_graph,\n",
        ")"
      ]
    },
    {
      "attachments": {},
      "cell_type": "markdown",
      "metadata": {},
      "source": [
        "Input a circuit and some parameters describing your computer.\n",
        "\n",
        "Simple circuit for this demo."
      ]
    },
    {
      "cell_type": "code",
      "execution_count": 3,
      "metadata": {},
      "outputs": [],
      "source": [
        "demo_circuit = QuantumCircuit.from_qasm_file(\"circuits/rotation_cnot.qasm\")\n",
        "architecture_model = BasicArchitectureModel(\n",
        "    physical_gate_error_rate=1e-3,\n",
        "    physical_gate_time_in_seconds=1e-6,\n",
        ")"
      ]
    },
    {
      "attachments": {},
      "cell_type": "markdown",
      "metadata": {},
      "source": [
        "Next, transpile into Clifford + T."
      ]
    },
    {
      "cell_type": "code",
      "execution_count": null,
      "metadata": {},
      "outputs": [],
      "source": [
        "clifford_t_circuit = pyliqtr_transpile_to_clifford_t(demo_circuit, synthesis_accuracy=1e-6)\n",
        "print(clifford_t_circuit)"
      ]
    },
    {
      "attachments": {},
      "cell_type": "markdown",
      "metadata": {},
      "source": [
        "Transform circuit into graph."
      ]
    },
    {
      "cell_type": "code",
      "execution_count": 13,
      "metadata": {},
      "outputs": [],
      "source": [
        "circuit_graph = get_algorithmic_graph_from_Jabalizer(clifford_t_circuit)"
      ]
    },
    {
      "attachments": {},
      "cell_type": "markdown",
      "metadata": {},
      "source": [
        "With this use this graph to make resource estimates."
      ]
    },
    {
      "cell_type": "code",
      "execution_count": null,
      "metadata": {},
      "outputs": [],
      "source": [
        "resource_estimates = get_resource_estimations_for_graph(circuit_graph, architecture_model)\n",
        "print(resource_estimates)"
      ]
    },
    {
      "attachments": {},
      "cell_type": "markdown",
      "metadata": {},
      "source": [
        "### Summary\n",
        "\n",
        "#### Inputs:\n",
        "- Circuit\n",
        "- Archetecture Model\n",
        "\n",
        "#### Outputs:\n",
        "- Number of physical qubits\n",
        "- Computation time\n",
        "- number of measurement steps (will be important later on!)"
      ]
    },
    {
      "attachments": {},
      "cell_type": "markdown",
      "metadata": {},
      "source": [
        "## What is a a Circuit Graph?"
      ]
    },
    {
      "cell_type": "code",
      "execution_count": null,
      "metadata": {},
      "outputs": [],
      "source": [
        "circuit_graph = get_algorithmic_graph_from_Jabalizer(clifford_t_circuit)"
      ]
    },
    {
      "attachments": {},
      "cell_type": "markdown",
      "metadata": {},
      "source": [
        "### What does this do?\n",
        "\n",
        "Recall that our circuit is in clifford + T form\n",
        "\n",
        "- Replaces T gates with magic measurements and ancilla\n",
        "- Use stabilizer simulator efficiently to push single qubit cliffords to one side\n",
        "- Now we have a circuit of the form Initialization, CNOT, Measurement (ICM form)"
      ]
    },
    {
      "cell_type": "code",
      "execution_count": null,
      "metadata": {},
      "outputs": [],
      "source": [
        "circuit_before_icm = json.load(open(os.getcwd() + \"/icm_input_circuit.json\"))\n",
        "print(circuit_before_icm)"
      ]
    },
    {
      "cell_type": "code",
      "execution_count": null,
      "metadata": {},
      "outputs": [],
      "source": [
        "circuit_after_icm = json.load(open(os.getcwd() + \"/icm_output.json\"))\n",
        "print(circuit_after_icm)"
      ]
    },
    {
      "attachments": {},
      "cell_type": "markdown",
      "metadata": {},
      "source": [
        "The middle CNOTS are the interesting part:\n",
        "\n",
        "- The CNOTS make a graph state\n",
        "- Use stabilizer simulator to find graph state (Jabalizer)\n",
        "- Return graph state as circuit graph"
      ]
    },
    {
      "cell_type": "code",
      "execution_count": null,
      "metadata": {},
      "outputs": [],
      "source": [
        "nx.draw(circuit_graph, node_size=10)"
      ]
    },
    {
      "attachments": {},
      "cell_type": "markdown",
      "metadata": {},
      "source": [
        "### Summary\n",
        "\n",
        "Circuit graphs are a simplify circuits.\n",
        "\n",
        "Count T-gate resources separately."
      ]
    },
    {
      "attachments": {},
      "cell_type": "markdown",
      "metadata": {},
      "source": [
        "## Getting Resource Estimates from Circuit Graphs\n",
        "\n",
        "circuit graph state + measurement = circuit implementation\n",
        "\n",
        "At the physical level, how many qubits do we need?\n",
        "\n",
        "At the logical level, how do we make the graph state?\n",
        "\n",
        "### How many qubits do we need?\n",
        "\n",
        "`find_min_viable_distance` tries a bunch of different code distances. (the power of the code)\n",
        "\n",
        "Returns the number of physical qubits required to reach that distance."
      ]
    },
    {
      "cell_type": "code",
      "execution_count": null,
      "metadata": {},
      "outputs": [],
      "source": [
        "from benchq.resource_estimation.graph_compilation import find_min_viable_distance\n",
        "\n",
        "logical_qubit_count = len(circuit_graph)\n",
        "distance = find_min_viable_distance(\n",
        "    logical_qubit_count,\n",
        "    architecture_model.physical_gate_error_rate, # physical error rate\n",
        "    10e-3, # logical error rate\n",
        ")\n",
        "\n",
        "physical_qubit_count = 12 * logical_qubit_count * 2 * distance**2\n",
        "total_time = 240 * logical_qubit_count * distance * 6 * architecture_model.physical_gate_time_in_seconds\n",
        "\n",
        "\n",
        "print(f\"distance: {distance}\")\n",
        "print(f\"physical qubit count: {physical_qubit_count}\")\n",
        "print(f\"total time: {total_time}\")"
      ]
    },
    {
      "attachments": {},
      "cell_type": "markdown",
      "metadata": {},
      "source": [
        "### How to make Circuit Graph State?\n",
        "\n",
        "Since graph state is a stabilizer state, we measure stabilizers to generate it!\n",
        "\n",
        "We could measure all the stabilizers to get the graph.\n",
        "\n",
        "Measurements are expensive!! So how optimize?\n",
        "\n",
        "### Substrate Scheduler\n",
        "\n",
        "Tells us how to measure and which can be measured simultaneously."
      ]
    },
    {
      "cell_type": "code",
      "execution_count": null,
      "metadata": {},
      "outputs": [],
      "source": [
        "from benchq.resource_estimation.graph_compilation import substrate_scheduler\n",
        "\n",
        "compiler = substrate_scheduler(circuit_graph)\n",
        "formatted_measurement_steps = [[node[0] for node in step] for step in compiler.measurement_steps]\n",
        "print(formatted_measurement_steps)"
      ]
    },
    {
      "cell_type": "code",
      "execution_count": null,
      "metadata": {},
      "outputs": [],
      "source": [
        "from benchq.vizualization_tools import plot_graph_state_with_measurement_steps\n",
        "\n",
        "plot_graph_state_with_measurement_steps(compiler.input_graph, compiler.measurement_steps)"
      ]
    },
    {
      "attachments": {},
      "cell_type": "markdown",
      "metadata": {},
      "source": [
        "### Problem! Graph can get too big to handle!\n",
        "\n",
        "#### Solution! Use subcircuits.\n",
        "\n",
        "Quantum Algorithms are made up of repeated components.\n",
        "\n",
        "Estimate resources for each component & multiply by the number of times it was used.\n",
        "\n",
        "Will create a higher estimate.\n",
        "\n",
        "More on this later!"
      ]
    },
    {
      "attachments": {},
      "cell_type": "markdown",
      "metadata": {},
      "source": [
        "## FINALLY! Pretty Graph Time!\n",
        "\n",
        "Let's look at the graphs of circuits to examine measurement steps!"
      ]
    },
    {
      "cell_type": "code",
      "execution_count": null,
      "metadata": {},
      "outputs": [],
      "source": [
        "circuit = QuantumCircuit.from_qasm_file(\"circuits/ghz_circuit.qasm\")\n",
        "\n",
        "clifford_t_circuit = pyliqtr_transpile_to_clifford_t(circuit, synthesis_accuracy=1e-10)\n",
        "circuit_graph = get_algorithmic_graph_from_Jabalizer(clifford_t_circuit)\n",
        "ghz_resource_estimates = get_resource_estimations_for_graph(circuit_graph, architecture_model, 1e-3, plot=True)\n",
        "print(ghz_resource_estimates)"
      ]
    },
    {
      "cell_type": "code",
      "execution_count": null,
      "metadata": {},
      "outputs": [],
      "source": [
        "circuit = QuantumCircuit.from_qasm_file(\"circuits/h_chain_circuit.qasm\")\n",
        "\n",
        "clifford_t_circuit = pyliqtr_transpile_to_clifford_t(circuit, synthesis_accuracy=1e-10)\n",
        "circuit_graph = get_algorithmic_graph_from_Jabalizer(clifford_t_circuit)\n",
        "h_chain_resource_estimates = get_resource_estimations_for_graph(circuit_graph, architecture_model, 1e-3, plot=True)\n",
        "print(h_chain_resource_estimates)"
      ]
    },
    {
      "attachments": {},
      "cell_type": "markdown",
      "metadata": {},
      "source": [
        "## Closing Statements\n",
        "\n",
        "### What did we learn?\n",
        "\n",
        "\n",
        "#### Inputs\n",
        "- Circuit\n",
        "- Architecture model\n",
        "#### Outputs\n",
        "- Number of physical qubits\n",
        "- Computation time\n",
        "- Number of measurement steps\n",
        "\n",
        "\n",
        "\n",
        "#### Components:\n",
        "- Transpilation (pyliqtr)\n",
        "  - Bring to Clifford + T\n",
        "- Jabalizer/ICM\n",
        "  - Easy way to represent circuit\n",
        "- Min code distance finding\n",
        "  - Number of physical qubits\n",
        "  - Computation time\n",
        "- Substrate scheduling\n",
        "  - number of measurement steps"
      ]
    },
    {
      "attachments": {},
      "cell_type": "markdown",
      "metadata": {},
      "source": [
        "## What's Next?\n",
        "\n",
        "- How to get resource estimate for large algorithms? (QuantumPrograms)\n",
        "- Compare to other resource estimators.\n",
        "- Try this notebook out for yourself!!"
      ]
    }
  ],
  "metadata": {
    "kernelspec": {
      "display_name": "benchq-demo-3",
      "language": "python",
      "name": "python3"
    },
    "language_info": {
      "codemirror_mode": {
        "name": "ipython",
        "version": 3
      },
      "file_extension": ".py",
      "mimetype": "text/x-python",
      "name": "python",
      "nbconvert_exporter": "python",
      "pygments_lexer": "ipython3",
      "version": "3.9.16"
    },
    "orig_nbformat": 4,
    "vscode": {
      "interpreter": {
        "hash": "fbda94f5ddcb73da906661b05314820b4a1597f16c608ce3a58aaa500dc8b85a"
      }
    }
  },
  "nbformat": 4,
  "nbformat_minor": 2
}
