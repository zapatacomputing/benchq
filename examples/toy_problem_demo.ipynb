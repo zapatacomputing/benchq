{
  "cells": [
    {
      "attachments": {},
      "cell_type": "markdown",
      "metadata": {},
      "source": [
        "# Toy Problem Demo\n",
        "\n",
        "## Scope\n",
        "\n",
        "What is a pipeline?\n",
        "\n",
        "How to create a pipeline in benchq:\n",
        "- inputs and outputs\n",
        "- components:\n",
        "  - Transpilation (pyliqtr)\n",
        "  - Jabalizer/ICM\n",
        "  - Min code distance finding\n",
        "  - Substrate scheduling\n",
        "\n",
        "#### Goal: Introduction to Benchq's Parts"
      ]
    },
    {
      "attachments": {},
      "cell_type": "markdown",
      "metadata": {},
      "source": [
        "## Agenda\n",
        "- Some example pipelines\n",
        "- Quick overview of Benchq usage.\n",
        "- What is a circuit graph? How do we produce them?\n",
        "- How do circuit graphs help get resource estimates?\n",
        "- Look at some pretty plots\n",
        "  - Preparing a GHZ state\n",
        "  - The fully connected graph"
      ]
    },
    {
      "cell_type": "code",
      "execution_count": null,
      "metadata": {
        "vscode": {
          "languageId": "python"
        }
      },
      "outputs": [],
      "source": [
        "%matplotlib inline"
      ]
    },
    {
      "attachments": {},
      "cell_type": "markdown",
      "metadata": {},
      "source": [
        "## Some Example Pipelines\n",
        "\n",
        "### The Simplest Pipeline\n",
        "\n",
        "The simplest pipeline is the automatic pipeline\n",
        "\n",
        "It has the following specifications:\n",
        "- 2 Input Objects\n",
        "  - QuantumProgram\n",
        "  - Hardware Model\n",
        "- 1 Output Object\n",
        "  - ResourceEstimation"
      ]
    },
    {
      "cell_type": "code",
      "execution_count": null,
      "metadata": {
        "vscode": {
          "languageId": "python"
        }
      },
      "outputs": [],
      "source": [
        "from benchq import automatic_resource_estimator, SCArchitectureModel, get_program_from_circuit\n",
        "from qiskit import QuantumCircuit\n",
        "\n",
        "demo_circuit = QuantumCircuit.from_qasm_file(\"circuits/rotation_cnot.qasm\")\n",
        "program = get_program_from_circuit(demo_circuit)\n",
        "\n",
        "automatic_resource_estimator(program, SCArchitectureModel)"
      ]
    },
    {
      "attachments": {},
      "cell_type": "markdown",
      "metadata": {},
      "source": [
        "Getting resource estimates is easy!\n",
        "\n",
        "But with a little more work, we can get it even better.\n",
        "\n",
        "### Our Pipeline\n",
        "\n",
        "To explain the basics of benchq, we will follow one particular pipeline dubbed:\n",
        "\n",
        "`run_estimate_using_graph_estimator_without_delayed_gate_synthesis`\n",
        "\n",
        "It has the following specifications:\n",
        "- "
      ]
    },
    {
      "attachments": {},
      "cell_type": "markdown",
      "metadata": {},
      "source": [
        "First! Let's choose a pipeline to use to run our resource estimates. \n",
        "\n",
        "Here we'll pick the simplest pipeline `run_estimate_using_full_graph` which is called as follows:\n",
        "\n",
        "```python\n",
        "run_estimate_using_full_graph(program: QuantumProgram, error_budget: ErrorBudget, estimator: GraphEstimator)\n",
        "```"
      ]
    },
    {
      "attachments": {},
      "cell_type": "markdown",
      "metadata": {},
      "source": [
        "You'll notice it has 3 inputs:\n",
        "1. A QuantumProgram\n",
        "2. An error budget\n",
        "3. An estimator\n",
        "   \n",
        "Let's make examples for each of these to explain what they all are."
      ]
    },
    {
      "attachments": {},
      "cell_type": "markdown",
      "metadata": {},
      "source": [
        "### Programs\n",
        "\n",
        "Your program is a description of the algorithm you want to perform.\n",
        "\n",
        "In this case, we can just use the circuit itself. But for larger circuits we might want to break them into peices. (more on this later)"
      ]
    },
    {
      "cell_type": "code",
      "execution_count": null,
      "metadata": {},
      "outputs": [],
      "source": [
        "from benchq.data_structures import get_program_from_circuit\n",
        "\n",
        "demo_circuit = QuantumCircuit.from_qasm_file(\"circuits/rotation_cnot.qasm\")\n",
        "program = get_program_from_circuit(demo_circuit)"
      ]
    },
    {
      "attachments": {},
      "cell_type": "markdown",
      "metadata": {},
      "source": [
        "### Error Budget\n",
        "\n",
        "Here we describe how each of the error sources will contribute to the overall error.\n",
        "\n",
        "We'll just use the automatic error budgeting for now."
      ]
    },
    {
      "cell_type": "code",
      "execution_count": null,
      "metadata": {},
      "outputs": [],
      "source": [
        "from benchq.data_structures import ErrorBudget\n",
        "\n",
        "ultimate_failure_tolerance = 0.01  # obtained from TA1 teams\n",
        "error_budget = ErrorBudget(ultimate_failure_tolerance)"
      ]
    },
    {
      "attachments": {},
      "cell_type": "markdown",
      "metadata": {},
      "source": [
        "### Estimators\n",
        "\n",
        "Estimators take the data from the graph(s) and transform them into resource estimates.\n",
        "\n",
        "Right now, you can choose between 2 estimators:\n",
        "`GraphEstimator`\n",
        "`ExtrapolatedEstimator`\n",
        "\n",
        "\n",
        "`GraphEstimator` is more precise, but requires more computation time.<br />\n",
        "`ExtrapolatedEstimator` handles larger programs, but is less precise.\n",
        "\n",
        "Since, our program is small, we'll just use `GraphEstimator` for now."
      ]
    },
    {
      "cell_type": "code",
      "execution_count": null,
      "metadata": {},
      "outputs": [],
      "source": [
        "from benchq.resource_estimation.graph import GraphResourceEstimator\n",
        "from benchq.data_structures import DecoderModel\n",
        "\n",
        "decoder_model = DecoderModel.from_csv(\"sample_decoder_data.csv\")\n",
        "architecture_model = SCArchitectureModel()\n",
        "\n",
        "estimator = GraphResourceEstimator(architecture_model, decoder_model)"
      ]
    },
    {
      "attachments": {},
      "cell_type": "markdown",
      "metadata": {},
      "source": [
        "### Running a resource estimation\n",
        "\n",
        "Ok! Now that we have all the required ingredients, let's get a simple resource estimation."
      ]
    },
    {
      "cell_type": "code",
      "execution_count": null,
      "metadata": {},
      "outputs": [],
      "source": [
        "from benchq.resource_estimation.graph_compilation import run_estimate_using_full_graph\n",
        "\n",
        "run_estimate_using_full_graph(program, error_budget, estimator)"
      ]
    },
    {
      "attachments": {},
      "cell_type": "markdown",
      "metadata": {},
      "source": [
        "But what does this function actually do?\n",
        "\n",
        "1. Transpiles the circuit to clifford + T\n",
        "2. Gets the graph corresponding to that circuit\n",
        "3. Gets estimates from that graph."
      ]
    },
    {
      "cell_type": "code",
      "execution_count": null,
      "metadata": {},
      "outputs": [],
      "source": [
        "clifford_t_circuit = pyliqtr_transpile_to_clifford_t(demo_circuit, circuit_precision=1e-6)\n",
        "print(clifford_t_circuit)"
      ]
    },
    {
      "attachments": {},
      "cell_type": "markdown",
      "metadata": {},
      "source": [
        "Transform circuit into graph."
      ]
    },
    {
      "cell_type": "code",
      "execution_count": null,
      "metadata": {},
      "outputs": [],
      "source": [
        "circuit_graph = get_algorithmic_graph_from_Jabalizer(clifford_t_circuit)"
      ]
    },
    {
      "attachments": {},
      "cell_type": "markdown",
      "metadata": {},
      "source": [
        "With this use this graph to make resource estimates."
      ]
    },
    {
      "cell_type": "code",
      "execution_count": null,
      "metadata": {},
      "outputs": [],
      "source": [
        "resource_estimates = get_resource_estimations_for_graph(circuit_graph, architecture_model)\n",
        "print(resource_estimates)"
      ]
    },
    {
      "attachments": {},
      "cell_type": "markdown",
      "metadata": {},
      "source": [
        "### Summary\n",
        "\n",
        "#### Inputs:\n",
        "- Circuit\n",
        "- Archetecture Model\n",
        "\n",
        "#### Outputs:\n",
        "- Number of physical qubits\n",
        "- Computation time\n",
        "- number of measurement steps (will be important later on!)"
      ]
    },
    {
      "attachments": {},
      "cell_type": "markdown",
      "metadata": {},
      "source": [
        "## What is a a Circuit Graph?"
      ]
    },
    {
      "cell_type": "code",
      "execution_count": null,
      "metadata": {},
      "outputs": [],
      "source": [
        "circuit_graph = get_algorithmic_graph_from_Jabalizer(clifford_t_circuit)"
      ]
    },
    {
      "attachments": {},
      "cell_type": "markdown",
      "metadata": {},
      "source": [
        "### What does this do?\n",
        "\n",
        "Recall that our circuit is in clifford + T form\n",
        "\n",
        "- Replaces T gates with magic measurements and ancilla\n",
        "- Use stabilizer simulator efficiently to push single qubit cliffords to one side\n",
        "- Now we have a circuit of the form Initialization, CNOT, Measurement (ICM form)"
      ]
    },
    {
      "cell_type": "code",
      "execution_count": null,
      "metadata": {},
      "outputs": [],
      "source": [
        "circuit_before_icm = json.load(open(os.getcwd() + \"/icm_input_circuit.json\"))\n",
        "print(circuit_before_icm)"
      ]
    },
    {
      "cell_type": "code",
      "execution_count": null,
      "metadata": {},
      "outputs": [],
      "source": [
        "circuit_after_icm = json.load(open(os.getcwd() + \"/icm_output.json\"))\n",
        "print(circuit_after_icm)"
      ]
    },
    {
      "attachments": {},
      "cell_type": "markdown",
      "metadata": {},
      "source": [
        "The middle CNOTS are the interesting part:\n",
        "\n",
        "- The CNOTS make a graph state\n",
        "- Use stabilizer simulator to find graph state (Jabalizer)\n",
        "- Return graph state as circuit graph"
      ]
    },
    {
      "cell_type": "code",
      "execution_count": null,
      "metadata": {},
      "outputs": [],
      "source": [
        "nx.draw(circuit_graph, node_size=10)"
      ]
    },
    {
      "attachments": {},
      "cell_type": "markdown",
      "metadata": {},
      "source": [
        "### Summary\n",
        "\n",
        "Circuit graphs are a simplify circuits.\n",
        "\n",
        "Count T-gate resources separately."
      ]
    },
    {
      "attachments": {},
      "cell_type": "markdown",
      "metadata": {},
      "source": [
        "## Getting Resource Estimates from Circuit Graphs\n",
        "\n",
        "circuit graph state + measurement = circuit implementation\n",
        "\n",
        "At the physical level, how many qubits do we need?\n",
        "\n",
        "At the logical level, how do we make the graph state?\n",
        "\n",
        "### How many qubits do we need?\n",
        "\n",
        "`find_min_viable_distance` tries a bunch of different code distances. (the power of the code)\n",
        "\n",
        "Returns the number of physical qubits required to reach that distance."
      ]
    },
    {
      "cell_type": "code",
      "execution_count": null,
      "metadata": {},
      "outputs": [],
      "source": [
        "from benchq.resource_estimation.graph_compilation import find_min_viable_distance\n",
        "\n",
        "logical_qubit_count = len(circuit_graph)\n",
        "distance = find_min_viable_distance(\n",
        "    logical_qubit_count,\n",
        "    architecture_model.physical_gate_error_rate, # physical error rate\n",
        "    10e-3, # logical error rate\n",
        ")\n",
        "\n",
        "physical_qubit_count = 12 * logical_qubit_count * 2 * distance**2\n",
        "total_time = 240 * logical_qubit_count * distance * 6 * architecture_model.physical_gate_time_in_seconds\n",
        "\n",
        "\n",
        "print(f\"distance: {distance}\")\n",
        "print(f\"physical qubit count: {physical_qubit_count}\")\n",
        "print(f\"total time: {total_time}\")"
      ]
    },
    {
      "attachments": {},
      "cell_type": "markdown",
      "metadata": {},
      "source": [
        "### How to make Circuit Graph State?\n",
        "\n",
        "Since graph state is a stabilizer state, we measure stabilizers to generate it!\n",
        "\n",
        "We could measure all the stabilizers to get the graph.\n",
        "\n",
        "Measurements are expensive!! So how optimize?\n",
        "\n",
        "### Substrate Scheduler\n",
        "\n",
        "Tells us how to measure and which can be measured simultaneously."
      ]
    },
    {
      "cell_type": "code",
      "execution_count": null,
      "metadata": {},
      "outputs": [],
      "source": [
        "from benchq.resource_estimation.graph_compilation import substrate_scheduler\n",
        "\n",
        "compiler = substrate_scheduler(circuit_graph)\n",
        "formatted_measurement_steps = [[node[0] for node in step] for step in compiler.measurement_steps]\n",
        "print(formatted_measurement_steps)"
      ]
    },
    {
      "cell_type": "code",
      "execution_count": null,
      "metadata": {},
      "outputs": [],
      "source": [
        "from benchq.vizualization_tools import plot_graph_state_with_measurement_steps\n",
        "\n",
        "plot_graph_state_with_measurement_steps(compiler.input_graph, compiler.measurement_steps)"
      ]
    },
    {
      "attachments": {},
      "cell_type": "markdown",
      "metadata": {},
      "source": [
        "### Problem! Graph can get too big to handle!\n",
        "\n",
        "#### Solution! Use subcircuits.\n",
        "\n",
        "Quantum Algorithms are made up of repeated components.\n",
        "\n",
        "Estimate resources for each component & multiply by the number of times it was used.\n",
        "\n",
        "Will create a higher estimate.\n",
        "\n",
        "More on this later!"
      ]
    },
    {
      "attachments": {},
      "cell_type": "markdown",
      "metadata": {},
      "source": [
        "## FINALLY! Pretty Graph Time!\n",
        "\n",
        "Let's look at the graphs of circuits to examine measurement steps!"
      ]
    },
    {
      "cell_type": "code",
      "execution_count": null,
      "metadata": {},
      "outputs": [],
      "source": [
        "circuit = QuantumCircuit.from_qasm_file(\"circuits/ghz_circuit.qasm\")\n",
        "\n",
        "clifford_t_circuit = pyliqtr_transpile_to_clifford_t(circuit, circuit_precision=1e-10)\n",
        "circuit_graph = get_algorithmic_graph_from_Jabalizer(clifford_t_circuit)\n",
        "ghz_resource_estimates = get_resource_estimations_for_graph(circuit_graph, architecture_model, 1e-3, plot=True)\n",
        "print(ghz_resource_estimates)"
      ]
    },
    {
      "cell_type": "code",
      "execution_count": null,
      "metadata": {},
      "outputs": [],
      "source": [
        "circuit = QuantumCircuit.from_qasm_file(\"circuits/h_chain_circuit.qasm\")\n",
        "\n",
        "clifford_t_circuit = pyliqtr_transpile_to_clifford_t(circuit, circuit_precision=1e-10)\n",
        "circuit_graph = get_algorithmic_graph_from_Jabalizer(clifford_t_circuit)\n",
        "h_chain_resource_estimates = get_resource_estimations_for_graph(circuit_graph, architecture_model, 1e-3, plot=True)\n",
        "print(h_chain_resource_estimates)"
      ]
    },
    {
      "attachments": {},
      "cell_type": "markdown",
      "metadata": {},
      "source": [
        "## Closing Statements\n",
        "\n",
        "### What did we learn?\n",
        "\n",
        "\n",
        "#### Inputs\n",
        "- Circuit\n",
        "- Architecture model\n",
        "#### Outputs\n",
        "- Number of physical qubits\n",
        "- Computation time\n",
        "- Number of measurement steps\n",
        "\n",
        "\n",
        "\n",
        "#### Components:\n",
        "- Transpilation (pyliqtr)\n",
        "  - Bring to Clifford + T\n",
        "- Jabalizer/ICM\n",
        "  - Easy way to represent circuit\n",
        "- Min code distance finding\n",
        "  - Number of physical qubits\n",
        "  - Computation time\n",
        "- Substrate scheduling\n",
        "  - number of measurement steps"
      ]
    },
    {
      "attachments": {},
      "cell_type": "markdown",
      "metadata": {},
      "source": [
        "## What's Next?\n",
        "\n",
        "- How to get resource estimate for large algorithms? (QuantumPrograms)\n",
        "- Compare to other resource estimators.\n",
        "- Try this notebook out for yourself!!"
      ]
    }
  ],
  "metadata": {
    "kernelspec": {
      "display_name": "Julia 1.8.5",
      "language": "julia",
      "name": "julia-1.8"
    },
    "language_info": {
      "file_extension": ".jl",
      "mimetype": "application/julia",
      "name": "julia",
      "version": "1.8.5"
    },
    "orig_nbformat": 4,
    "vscode": {
      "interpreter": {
        "hash": "fbda94f5ddcb73da906661b05314820b4a1597f16c608ce3a58aaa500dc8b85a"
      }
    }
  },
  "nbformat": 4,
  "nbformat_minor": 2
}
