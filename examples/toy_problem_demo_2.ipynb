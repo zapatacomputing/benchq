{
 "cells": [
  {
   "cell_type": "markdown",
   "metadata": {
    "slideshow": {
     "slide_type": "slide"
    }
   },
   "source": [
    "![zapata logo](./intro_8.png)\n",
    "\n"
   ]
  },
  {
   "cell_type": "markdown",
   "metadata": {
    "slideshow": {
     "slide_type": "slide"
    }
   },
   "source": [
    "![zapata logo](./group_picture_6.png)"
   ]
  },
  {
   "cell_type": "code",
   "execution_count": 2,
   "metadata": {
    "slideshow": {
     "slide_type": "skip"
    }
   },
   "outputs": [],
   "source": [
    "import datetime\n",
    "import json\n",
    "import os\n",
    "from dataclasses import dataclass\n",
    "from pathlib import Path\n",
    "import logging\n",
    "import sys\n",
    "\n",
    "from benchq.algorithms.time_evolution import qsp_time_evolution_algorithm\n",
    "from benchq.compilation import get_ruby_slippers_compiler\n",
    "from benchq.data_structures import (\n",
    "    BASIC_ION_TRAP_ARCHITECTURE_MODEL,\n",
    "    BASIC_SC_ARCHITECTURE_MODEL,\n",
    "    DecoderModel,\n",
    ")\n",
    "from benchq.data_structures.hardware_architecture_models import DetailedIonTrapModel\n",
    "from benchq.problem_ingestion.hamiltonian_generation import (\n",
    "    generate_cubic_hamiltonian,\n",
    "    generate_kitaev_hamiltonian,\n",
    "    generate_triangular_hamiltonian,\n",
    ")\n",
    "from benchq.resource_estimation.graph import (\n",
    "    ExtrapolationResourceEstimator,\n",
    "    GraphResourceEstimator,\n",
    "    create_big_graph_from_subcircuits,\n",
    "    remove_isolated_nodes,\n",
    "    run_custom_extrapolation_pipeline,\n",
    "    run_custom_resource_estimation_pipeline,\n",
    "    transpile_to_native_gates,\n",
    ")\n",
    "from benchq.resource_estimation.openfermion_re import get_physical_cost\n",
    "\n",
    "\n",
    "evolution_time = 1\n",
    "failure_tolerance = 1e-4\n",
    "# simulate the 2x2 3D sing model\n",
    "operator = generate_cubic_hamiltonian(2)\n",
    "\n",
    "algorithm_implementation = qsp_time_evolution_algorithm(\n",
    "    operator, evolution_time, failure_tolerance\n",
    ")\n",
    "\n",
    "from icecream import IceCreamDebugger\n",
    "\n",
    "ic_base = IceCreamDebugger(prefix=\"\\n\", outputFunction=print)\n",
    "\n",
    "\n",
    "def ic(resource_estimate):\n",
    "    out = ic_base(resource_estimate)"
   ]
  },
  {
   "cell_type": "markdown",
   "metadata": {
    "slideshow": {
     "slide_type": "slide"
    }
   },
   "source": [
    "![zapata logo](./motivation_2.png)"
   ]
  },
  {
   "cell_type": "markdown",
   "metadata": {
    "slideshow": {
     "slide_type": "slide"
    }
   },
   "source": [
    "![zapata logo](./recipe_5.png)"
   ]
  },
  {
   "cell_type": "code",
   "execution_count": 9,
   "metadata": {
    "slideshow": {
     "slide_type": "slide"
    }
   },
   "outputs": [
    {
     "name": "stdout",
     "output_type": "stream",
     "text": [
      "Transpiling to native gates...\n",
      "Transpiled in 0.20927715301513672 seconds.\n",
      "Creating big graph from subcircuits...\n",
      "get_graph_state_data:\tMemory for data structures allocated\n",
      "100% (1158567) completed in       17.63s\n",
      " 18.781970 seconds (41.53 M allocations: 2.158 GiB, 11.95% gc time, 0.09% compilation time)\n",
      "getting networkx graph from vertices\n",
      "time:  10.729280948638916\n",
      "getting max graph degree\n",
      "starting substrate scheduler\n",
      "substrate scheduler took 4.837172031402588 seconds\n"
     ]
    }
   ],
   "source": [
    "# ALL PAIRS HERE ARE INTERCHANGABLE!\n",
    "from benchq.resource_estimation.default_pipelines import (\n",
    "    run_fast_graph_estimate,\n",
    "    run_footprint_analysis_pipeline,\n",
    ")\n",
    "from benchq.algorithms.time_evolution import (\n",
    "    qsp_time_evolution_algorithm,\n",
    "    trotter_time_evolution_algorithm,\n",
    ")\n",
    "from benchq.data_structures import (\n",
    "    BASIC_SC_ARCHITECTURE_MODEL,\n",
    "    BASIC_ION_TRAP_ARCHITECTURE_MODEL,\n",
    "    DETAILED_ION_TRAP_ARCHITECTURE_MODEL,\n",
    ")\n",
    "from benchq.problem_ingestion.hamiltonian_generation import (\n",
    "    generate_cubic_hamiltonian,\n",
    "    generate_triangular_hamiltonian,\n",
    ")\n",
    "\n",
    "implementation = qsp_time_evolution_algorithm(generate_cubic_hamiltonian(2), 5, 1e-3)\n",
    "\n",
    "resource_estimate = run_fast_graph_estimate(\n",
    "    implementation, BASIC_SC_ARCHITECTURE_MODEL\n",
    ")"
   ]
  },
  {
   "cell_type": "markdown",
   "metadata": {
    "slideshow": {
     "slide_type": "subslide"
    }
   },
   "source": [
    "![zapata logo](./gsc_diagram_4.png)"
   ]
  },
  {
   "cell_type": "markdown",
   "metadata": {
    "slideshow": {
     "slide_type": "slide"
    }
   },
   "source": [
    "![zapata logo](./benchq_recipe_advanced_3.png)"
   ]
  },
  {
   "cell_type": "code",
   "execution_count": 6,
   "metadata": {
    "slideshow": {
     "slide_type": "slide"
    }
   },
   "outputs": [],
   "source": [
    "from benchq.data_structures import DecoderModel\n",
    "from benchq.resource_estimation.graph import (\n",
    "    ExtrapolationResourceEstimator,\n",
    "    GraphResourceEstimator,\n",
    "    run_custom_extrapolation_pipeline,\n",
    "    run_custom_resource_estimation_pipeline,\n",
    "    transpile_to_native_gates,\n",
    "    create_big_graph_from_subcircuits,\n",
    "    remove_isolated_nodes,\n",
    ")"
   ]
  },
  {
   "cell_type": "code",
   "execution_count": 7,
   "metadata": {
    "slideshow": {
     "slide_type": "subslide"
    }
   },
   "outputs": [],
   "source": [
    "evolution_time = 10\n",
    "failure_tolerance = 1e-4\n",
    "# simulate the 5x5 3D Ising model\n",
    "operator = generate_cubic_hamiltonian(5)\n",
    "algorithm_implementation = qsp_time_evolution_algorithm(\n",
    "    operator, evolution_time, failure_tolerance\n",
    ")\n",
    "\n",
    "decoder_model = DecoderModel.from_csv(\"stochastic_re_realistic.csv\")\n",
    "resource_estimator = ExtrapolationResourceEstimator(\n",
    "    DETAILED_ION_TRAP_ARCHITECTURE_MODEL,\n",
    "    [2, 3],\n",
    "    decoder_model=decoder_model,\n",
    "    optimization=\"time\",\n",
    "    substrate_scheduler_preset=\"fast\",\n",
    ")\n",
    "\n",
    "transformers = [\n",
    "    transpile_to_native_gates,\n",
    "    create_big_graph_from_subcircuits(),\n",
    "    remove_isolated_nodes,\n",
    "]"
   ]
  },
  {
   "cell_type": "markdown",
   "metadata": {
    "slideshow": {
     "slide_type": "slide"
    }
   },
   "source": [
    "![zapata logo](./Resource_estimator_options_6.png)"
   ]
  },
  {
   "cell_type": "markdown",
   "metadata": {
    "slideshow": {
     "slide_type": "slide"
    }
   },
   "source": [
    "![hello](how_to_contribute_4.png)"
   ]
  },
  {
   "cell_type": "markdown",
   "metadata": {
    "slideshow": {
     "slide_type": "slide"
    }
   },
   "source": [
    "![zapata logo](./summary_4.png)"
   ]
  },
  {
   "cell_type": "markdown",
   "metadata": {
    "slideshow": {
     "slide_type": "slide"
    }
   },
   "source": [
    "![zapata logo](./end_slide_4.png)"
   ]
  },
  {
   "cell_type": "markdown",
   "metadata": {
    "slideshow": {
     "slide_type": "subslide"
    }
   },
   "source": [
    "![zapata logo](./citations_3.png)"
   ]
  }
 ],
 "metadata": {
  "celltoolbar": "Slideshow",
  "kernelspec": {
   "display_name": "Python 3 (ipykernel)",
   "language": "python",
   "name": "python3"
  },
  "language_info": {
   "codemirror_mode": {
    "name": "ipython",
    "version": 3
   },
   "file_extension": ".py",
   "mimetype": "text/x-python",
   "name": "python",
   "nbconvert_exporter": "python",
   "pygments_lexer": "ipython3",
   "version": "3.10.11"
  }
 },
 "nbformat": 4,
 "nbformat_minor": 4
}
